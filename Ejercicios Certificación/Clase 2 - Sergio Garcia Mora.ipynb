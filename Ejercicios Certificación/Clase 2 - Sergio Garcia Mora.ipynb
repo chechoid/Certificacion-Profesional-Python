{
 "cells": [
  {
   "cell_type": "markdown",
   "metadata": {},
   "source": [
    "# Clase 2 - Curso Python ITBA\n",
    "## Ejercicios de Sergio Garcia Mora"
   ]
  },
  {
   "cell_type": "markdown",
   "metadata": {},
   "source": [
    "# Mini Desafíos"
   ]
  },
  {
   "cell_type": "markdown",
   "metadata": {},
   "source": [
    "## Mini Desafío 1\n",
    "\n",
    "Escribir un programa que reciba tres datos: Nombre, apellido y edad e imprima lo siguiente:\n",
    "\n",
    "NOMBRE APELLIDO nació hace EDAD años."
   ]
  },
  {
   "cell_type": "code",
   "execution_count": 1,
   "metadata": {},
   "outputs": [
    {
     "name": "stdout",
     "output_type": "stream",
     "text": [
      "Escriba su nombre:Sergio\n",
      "Escriba su apellido: Garcia Mora\n",
      "Cuántos años tiene?: 44\n",
      "Sergio Garcia Mora nació hace 44 años\n"
     ]
    }
   ],
   "source": [
    "# Crear los inputs\n",
    "nombre = input(\"Escriba su nombre:\")\n",
    "apellido = input(\"Escriba su apellido: \")\n",
    "edad = input(\"Cuántos años tiene?: \")\n",
    "\n",
    "print(nombre, apellido, \"nació hace\", edad, \"años\")"
   ]
  },
  {
   "cell_type": "markdown",
   "metadata": {},
   "source": [
    "## Mini Desafío 2\n",
    "\n",
    "Escribir un programa que pida al usuario el radio de un círculo en metros y calcule el área de un círculo 1m más pequeño."
   ]
  },
  {
   "cell_type": "code",
   "execution_count": 8,
   "metadata": {},
   "outputs": [
    {
     "name": "stdout",
     "output_type": "stream",
     "text": [
      "Escriba el radio de un círculo (en metros): 5\n",
      "El área del círculo es de 78.5 metros cuadrados\n",
      "Y si restamos 1 metro, el área es de 77.5 metros cuadrados\n"
     ]
    }
   ],
   "source": [
    "# Importo la librería 'math' para usar el valor de pi\n",
    "import math\n",
    "\n",
    "radio = input(\"Escriba el radio de un círculo (en metros): \")\n",
    "\n",
    "# Como el input lo ingresa como un string, convierto radio en un entero\n",
    "radio = int(radio)\n",
    "\n",
    "print(\"El área del círculo es de\", round(math.pi * radio ** 2,1), \"metros cuadrados\")\n",
    "print(\"Y si restamos 1 metro, el área es de\", round(math.pi* radio**2,1)-1, \"metros cuadrados\")"
   ]
  },
  {
   "cell_type": "markdown",
   "metadata": {},
   "source": [
    "## Mini Desafío 3\n",
    "\n",
    "En un mundo paralelo los minutos duran una cantidad arbitraria de segundos y el tiempo se mide unicamente en minutos, no existen las horas.\n",
    "\n",
    "Se pide escribir un programa que pida al usuario la duración de estos minutos y una cantidad de segundos.\n",
    "\n",
    "La salida del programa debe ser `X segundos son MINUTOS:SEGUNDOS`. Ejemplo:\n",
    "\n",
    "#>>> Ingrese segundos por minuto: 15\n",
    "#>>> Ingrese la cantidad de segundos: 100\n",
    "#100 segundos son 6:10\n",
    "NOTA: >>> significa que el programa pidió un input al usuario."
   ]
  },
  {
   "cell_type": "code",
   "execution_count": null,
   "metadata": {},
   "outputs": [],
   "source": []
  }
 ],
 "metadata": {
  "kernelspec": {
   "display_name": "Python 3",
   "language": "python",
   "name": "python3"
  },
  "language_info": {
   "codemirror_mode": {
    "name": "ipython",
    "version": 3
   },
   "file_extension": ".py",
   "mimetype": "text/x-python",
   "name": "python",
   "nbconvert_exporter": "python",
   "pygments_lexer": "ipython3",
   "version": "3.8.5"
  }
 },
 "nbformat": 4,
 "nbformat_minor": 4
}
